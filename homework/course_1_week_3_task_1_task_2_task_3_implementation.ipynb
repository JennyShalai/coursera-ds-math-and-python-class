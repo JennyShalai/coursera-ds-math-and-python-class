{
 "cells": [
  {
   "cell_type": "markdown",
   "metadata": {},
   "source": [
    "# Задача 1: Минимизация гладкой функции"
   ]
  },
  {
   "cell_type": "code",
   "execution_count": 1,
   "metadata": {},
   "outputs": [
    {
     "data": {
      "text/plain": [
       "<Figure size 640x480 with 1 Axes>"
      ]
     },
     "metadata": {},
     "output_type": "display_data"
    },
    {
     "name": "stdout",
     "output_type": "stream",
     "text": [
      "1.74526829033\n",
      "1.74526829034\n",
      "-11.898894666\n"
     ]
    }
   ],
   "source": [
    "import math\n",
    "import numpy as np\n",
    "import matplotlib.pyplot as plt\n",
    "from scipy.optimize import minimize\n",
    "\n",
    "def f(x):\n",
    "    return np.sin(x/5) * np.exp(x/10) + 5*np.exp(-x/2)\n",
    "\n",
    "# отрисовать график функции для наглядности\n",
    "xp = np.linspace(0,30,100)\n",
    "_ = plt.plot( xp, f(xp), '-')\n",
    "plt.show()\n",
    "\n",
    "\n",
    "task1_1 = minimize(f, 5)\n",
    "print(task1_1.fun)\n",
    "\n",
    "task1_2 = minimize(f, 2, method = 'BFGS')\n",
    "print(task1_2.fun)\n",
    "\n",
    "task1_3 = minimize(f, 30, method = 'BFGS')\n",
    "print(task1_3.fun)"
   ]
  },
  {
   "cell_type": "markdown",
   "metadata": {},
   "source": [
    "# Задача 2. Глобальная оптимизация"
   ]
  },
  {
   "cell_type": "code",
   "execution_count": 2,
   "metadata": {},
   "outputs": [
    {
     "name": "stdout",
     "output_type": "stream",
     "text": [
      "     fun: array([-11.89889467])\n",
      "     jac: array([1.77635684e-07])\n",
      " message: 'Optimization terminated successfully.'\n",
      "    nfev: 98\n",
      "     nit: 5\n",
      " success: True\n",
      "       x: array([25.88019313])\n"
     ]
    }
   ],
   "source": [
    "from scipy.optimize import differential_evolution\n",
    "\n",
    "bounds = [(1, 30)]\n",
    "task2_1 = differential_evolution(f, bounds)\n",
    "print(task2_1)"
   ]
  },
  {
   "cell_type": "markdown",
   "metadata": {},
   "source": [
    "# Задача 3. Минимизация негладкой функции"
   ]
  },
  {
   "cell_type": "code",
   "execution_count": 3,
   "metadata": {},
   "outputs": [
    {
     "name": "stdout",
     "output_type": "stream",
     "text": [
      "-5\n",
      "-11.0\n"
     ]
    }
   ],
   "source": [
    "def f2(x): \n",
    "    return int(np.sin(x/5) * np.exp(x/10) + 5*np.exp(-x/2))\n",
    "\n",
    "task3_1 = minimize(f2, 30, method = 'BFGS')\n",
    "print(task3_1.fun)\n",
    "\n",
    "bounds = [(1,30)]\n",
    "task3_2 = differential_evolution(f2, bounds)\n",
    "print(task3_2.fun)\n"
   ]
  },
  {
   "cell_type": "code",
   "execution_count": null,
   "metadata": {},
   "outputs": [],
   "source": []
  }
 ],
 "metadata": {
  "kernelspec": {
   "display_name": "Python 2",
   "language": "python",
   "name": "python2"
  },
  "language_info": {
   "codemirror_mode": {
    "name": "ipython",
    "version": 2
   },
   "file_extension": ".py",
   "mimetype": "text/x-python",
   "name": "python",
   "nbconvert_exporter": "python",
   "pygments_lexer": "ipython2",
   "version": "2.7.16"
  }
 },
 "nbformat": 4,
 "nbformat_minor": 2
}
