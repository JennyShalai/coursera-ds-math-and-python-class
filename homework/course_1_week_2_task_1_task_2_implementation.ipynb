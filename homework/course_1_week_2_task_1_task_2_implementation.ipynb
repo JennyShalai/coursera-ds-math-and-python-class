{
 "cells": [
  {
   "cell_type": "markdown",
   "metadata": {},
   "source": [
    "# Задача 1: сравнение предложений"
   ]
  },
  {
   "cell_type": "markdown",
   "metadata": {},
   "source": [
    "### найти два предложения, которые ближе всего по смыслу к расположенному в самой первой строке. В качестве меры близости по смыслу мы будем использовать косинусное расстояние."
   ]
  },
  {
   "cell_type": "code",
   "execution_count": 3,
   "metadata": {},
   "outputs": [
    {
     "name": "stdout",
     "output_type": "stream",
     "text": [
      "0.0\n",
      "0.9527544408738466\n",
      "0.8644738145642124\n",
      "0.8951715163278082\n",
      "0.7770887149698589\n",
      "0.9402385695332803\n",
      "0.7327387580875756\n",
      "0.9258750683338899\n",
      "0.8842724875284311\n",
      "0.9055088817476932\n",
      "0.8328165362273942\n",
      "0.8804771390665607\n",
      "0.8396432548525454\n",
      "0.8703592552895671\n",
      "0.8740118423302576\n",
      "0.9442721787424647\n",
      "0.8406361854220809\n",
      "0.956644501523794\n",
      "0.9442721787424647\n",
      "0.8885443574849294\n",
      "0.8427572744917122\n",
      "0.8250364469440588\n"
     ]
    }
   ],
   "source": [
    "import numpy as np\n",
    "import re\n",
    "from scipy.spatial import distance\n",
    "\n",
    "fp = open('desktop/sentences.txt', 'r') \n",
    "\n",
    "def dict_of_words(words, dict_of_words):\n",
    "    index = 0\n",
    "    for word in words:\n",
    "        dict_of_words[word] = index\n",
    "        index += 1\n",
    "\n",
    "def set_of_words(words, unique_words):\n",
    "    for word in words:\n",
    "        if word != '':\n",
    "            word = word.lower()\n",
    "            unique_words.add(word)\n",
    "            \n",
    "def dict_of_sentences(words, dict_of_sentences):\n",
    "    index = 0\n",
    "    for key in dict_of_sentences:\n",
    "        index += 1\n",
    "    dict_of_sentences[index] = words\n",
    "    \n",
    "def matrix_builder(columns, rows):\n",
    "    output_matrix = np.zeros(len(columns), dtype = int)\n",
    "    for  centence_index, words in rows.items():\n",
    "        number_of_columns = len(columns)\n",
    "        row_vector = np.zeros(number_of_columns, dtype = int)\n",
    "        for word in words:\n",
    "            if word in columns:\n",
    "                row_vector[columns[word]] += 1\n",
    "        output_matrix = np.vstack([output_matrix, row_vector])\n",
    "    output_matrix = np.delete(output_matrix, (0), axis=0)\n",
    "    return output_matrix\n",
    "\n",
    "def distance_cosine(vector_one, vector_two):\n",
    "    return distance.cosine(vector_one, vector_two)\n",
    "                \n",
    "line = fp.readline()\n",
    "columns_as_words = {} # словарь с парами \"слово:уникальный номер соответствия\"\n",
    "rows_as_sentences = {} # словарь с парами \"индекс пердложения:массив слов этого предложения\"\n",
    "unique_words = set()\n",
    "\n",
    "counter = 1\n",
    "while line:\n",
    "    line = line.lower() # приведите каждую строку к нижнему регистру с помощью строковой функции lower()\n",
    "    line = re.split('[^a-z]', line) # произведите токенизацию, то есть разбиение текстов на слова\n",
    "    set_of_words(line, unique_words) # список всех слов, встречающихся в предложениях - будущие сталбцы матрицы\n",
    "    dict_of_sentences(line, rows_as_sentences)\n",
    "    line = fp.readline()\n",
    "    counter += 1\n",
    "    \n",
    "   \n",
    "dict_of_words(unique_words, columns_as_words) # Сопоставьте каждому слову индекс от нуля до (d - 1), где d — число различных слов в предложениях\n",
    "matrix = matrix_builder(columns_as_words, rows_as_sentences) # матрицу размера n * d, где n — число предложений\n",
    "\n",
    "base_vector = matrix[0]\n",
    "\n",
    "for vector in matrix:\n",
    "    print(distance_cosine(base_vector, vector))\n",
    "\n"
   ]
  },
  {
   "cell_type": "markdown",
   "metadata": {},
   "source": [
    "# Задача 2: аппроксимация функции"
   ]
  },
  {
   "cell_type": "markdown",
   "metadata": {},
   "source": [
    "f(x) = sin(x / 5) * exp(x / 10) + 5 * exp(-x / 2)\n"
   ]
  },
  {
   "cell_type": "code",
   "execution_count": 4,
   "metadata": {},
   "outputs": [
    {
     "name": "stdout",
     "output_type": "stream",
     "text": [
      "[ 4.36264154 -1.29552587  0.19333685 -0.00823565]\n",
      "[ 3.32512949 -0.06531159 -0.00760104]\n",
      "[ 4.36264154 -1.29552587  0.19333685 -0.00823565]\n"
     ]
    },
    {
     "data": {
      "image/png": "[encoded data removed]",
      "text/plain": [
       "<Figure size 432x288 with 1 Axes>"
      ]
     },
     "metadata": {
      "needs_background": "light"
     },
     "output_type": "display_data"
    }
   ],
   "source": [
    "import math \n",
    "import numpy as np\n",
    "import scipy as scipy\n",
    "import matplotlib.pyplot as plt\n",
    "%matplotlib inline\n",
    "\n",
    "def f(x):\n",
    "    return np.sin(x/5) * np.exp(x/10) + 5*np.exp(-x/2)\n",
    "\n",
    "# [1.,4.,10.,15.]\n",
    "X = [[1, 1, 1, 1], [1, 4, 16, 64], [1, 10, 100, 1000], [1, 15, 225, 3375]]\n",
    "Y = [f(1.), f(4.), f(10.), f(15.)]\n",
    "B = scipy.linalg.solve(X, Y) # [ 4.36264154 -1.29552587  0.19333685 -0.00823565]\n",
    "print(B)\n",
    "\n",
    "# апроксимация функции полинома второй степени\n",
    "X0 = np.array([1,8,15])\n",
    "Y0 = np.array([f(1.),f(8.),f(15.)])\n",
    "W0 =  np.polyfit(X0, Y0, 2)\n",
    "print(np.flip(W0))\n",
    "p0 = np.poly1d(W0)\n",
    "\n",
    "# апроксимация функции полинома третей степени\n",
    "X1 = np.array([1,4,10,15])\n",
    "Y1 = np.array([f(1.),f(4.),f(10.),f(15.)])\n",
    "W1 =  np.polyfit(X1, Y1, 3)\n",
    "print(np.flip(W1))\n",
    "p1 = np.poly1d(W1)\n",
    "\n",
    "xp = np.linspace(0,16,100)\n",
    "_ = plt.plot(X1, Y1, '*', xp, f(xp), '-', xp, p0(xp), '--', xp, p1(xp), '.')\n",
    "plt.show()"
   ]
  },
  {
   "cell_type": "code",
   "execution_count": null,
   "metadata": {},
   "outputs": [],
   "source": []
  }
 ],
 "metadata": {
  "kernelspec": {
   "display_name": "Python 2",
   "language": "python",
   "name": "python2"
  },
  "language_info": {
   "codemirror_mode": {
    "name": "ipython",
    "version": 2
   },
   "file_extension": ".py",
   "mimetype": "text/x-python",
   "name": "python",
   "nbconvert_exporter": "python",
   "pygments_lexer": "ipython2",
   "version": "2.7.16"
  }
 },
 "nbformat": 4,
 "nbformat_minor": 2
}
